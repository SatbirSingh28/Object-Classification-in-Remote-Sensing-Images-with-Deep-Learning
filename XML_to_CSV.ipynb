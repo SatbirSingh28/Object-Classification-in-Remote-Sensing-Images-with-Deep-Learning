{
 "cells": [
  {
   "cell_type": "code",
   "execution_count": 5,
   "metadata": {},
   "outputs": [
    {
     "name": "stdout",
     "output_type": "stream",
     "text": [
      "    filename  width  height     class  xmin  ymin  xmax  ymax\n",
      "0  11726.jpg    800     800  airplane   256   131   318   189\n",
      "1  11726.jpg    800     800  airplane   254   203   302   263\n",
      "2  11726.jpg    800     800  airplane   225   253   325   333\n",
      "3  11726.jpg    800     800  airplane   276   296   341   365\n",
      "4  11726.jpg    800     800  airplane   265   345   321   392\n",
      "Success!\n"
     ]
    }
   ],
   "source": [
    "import glob\n",
    "import pandas as pd\n",
    "import xml.etree.ElementTree as ET\n",
    "from shutil import copy2\n",
    "import os\n",
    "\n",
    "def xml_to_csv(path,Training_path):\n",
    "    classlist = ['ship','bridge','stadium']\n",
    "    xml_list = []\n",
    "    i=0\n",
    "    for xml_file in glob.glob(path + '/*.xml'):\n",
    "        \n",
    "        tree = ET.parse(xml_file)\n",
    "        root = tree.getroot()\n",
    "        for member in root.findall('object'):\n",
    "            #print(member.find('bndbox')[0].text)  #we get ymin xmin ymax x min\n",
    "            #if any (x in member.find('name').text for x in classlist):\n",
    "            #member[0] is name..but thats only if the name is directly under <object>\n",
    "                value = (root.find('filename').text,\n",
    "                        int(root.find('size')[0].text),\n",
    "                        int(root.find('size')[1].text),\n",
    "                        member.find('name').text,\n",
    "                        int(member.find('bndbox')[0].text),\n",
    "                        int(member.find('bndbox')[1].text),\n",
    "                        int(member.find('bndbox')[2].text),\n",
    "                        int(member.find('bndbox')[3].text)\n",
    "                        )\n",
    "                xml_list.append(value)\n",
    "                if xml_list[i][3] == classlist [0]:\n",
    "                    copy2(xml_file, 'TestAnnotationsChoosenClass')\n",
    "                    copy2(os.path.join(Training_path, xml_list[i][0]), 'TestDataChoosenClass')\n",
    "                if xml_list[i][3] == classlist [1]:\n",
    "                    copy2(xml_file, 'TestAnnotationsChoosenClass')\n",
    "                    copy2(os.path.join(Training_path, xml_list[i][0]), 'TestDataChoosenClass')\n",
    "                if xml_list[i][3] == classlist [2]:\n",
    "                    copy2(xml_file, 'TestAnnotationsChoosenClass')\n",
    "                    copy2(os.path.join(Training_path, xml_list[i][0]), 'TestDataChoosenClass')\n",
    "#                 if xml_list[i][3] == classlist [3]:\n",
    "#                     copy2(xml_file, 'AnnotationsChoosenClass')\n",
    "#                     copy2(os.path.join(Training_path, xml_list[i][0]), 'TrainDataChoosenClass')\n",
    "                i=i+1       \n",
    "    column_name = ['filename', 'width', 'height', 'class', 'xmin', 'ymin', 'xmax', 'ymax']\n",
    "    xml_df = pd.DataFrame(xml_list, columns=column_name)\n",
    "    \n",
    "    print(xml_df.head())\n",
    "    \n",
    "    return xml_df\n",
    "\n",
    "annotation_path = 'Testing Data'\n",
    "Training_path = 'C:/Users/mirza/OneDrive/ENEL 645/Final Project/Actual Project/Daraset 2 - DIOR/JPEGImages-test-002/JPEGImages-test'\n",
    "os.mkdir('TestDataChoosenClass')\n",
    "os.mkdir('TestAnnotationsChoosenClass')\n",
    "xml_dataframe = xml_to_csv(annotation_path,Training_path)\n",
    "\n",
    "xml_dataframe.to_csv('own_data_test1.csv')\n",
    "\n",
    "print('Success!')"
   ]
  },
  {
   "cell_type": "code",
   "execution_count": null,
   "metadata": {},
   "outputs": [],
   "source": []
  }
 ],
 "metadata": {
  "kernelspec": {
   "display_name": "Python 3",
   "language": "python",
   "name": "python3"
  },
  "language_info": {
   "codemirror_mode": {
    "name": "ipython",
    "version": 3
   },
   "file_extension": ".py",
   "mimetype": "text/x-python",
   "name": "python",
   "nbconvert_exporter": "python",
   "pygments_lexer": "ipython3",
   "version": "3.8.3"
  }
 },
 "nbformat": 4,
 "nbformat_minor": 4
}
